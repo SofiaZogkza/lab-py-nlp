{
 "cells": [
  {
   "cell_type": "markdown",
   "id": "acf31a39",
   "metadata": {},
   "source": [
    "# **Comprehensive NLP Lab: From Preprocessing to Feature Extraction**"
   ]
  },
  {
   "cell_type": "markdown",
   "id": "0bb5fcd9",
   "metadata": {},
   "source": [
    "In this lab, you will explore a wide range of Natural Language Processing (NLP) techniques, from basic text preprocessing to advanced feature extraction and analysis. By the end of this lab, you will be able to:\n",
    "\n",
    "1. **Tokenize** and preprocess text data.\n",
    "2. Remove **stop words** and **punctuation**.\n",
    "3. Apply **stemming** and **lemmatization**.\n",
    "4. Extract features using **Bag of Words (BoW)** and **TF-IDF**.\n",
    "5. Generate **n-grams** to capture contextual information.\n",
    "6. Evaluate the impact of different preprocessing techniques on text data.\n",
    "\n",
    "Let's dive in!"
   ]
  },
  {
   "cell_type": "markdown",
   "id": "f0bdb53e",
   "metadata": {},
   "source": [
    "## **1. Setup the Environment**\n"
   ]
  },
  {
   "cell_type": "markdown",
   "id": "9aa12605",
   "metadata": {},
   "source": [
    "Before we begin, ensure you have the necessary libraries installed. Run the following cell to install them:\n"
   ]
  },
  {
   "cell_type": "code",
   "execution_count": 1,
   "id": "6dd9b473",
   "metadata": {},
   "outputs": [
    {
     "name": "stdout",
     "output_type": "stream",
     "text": [
      "Requirement already satisfied: nltk in /opt/anaconda3/lib/python3.13/site-packages (3.9.1)\n",
      "Requirement already satisfied: scikit-learn in /opt/anaconda3/lib/python3.13/site-packages (1.6.1)\n",
      "Requirement already satisfied: pandas in /opt/anaconda3/lib/python3.13/site-packages (2.2.3)\n",
      "Requirement already satisfied: matplotlib in /opt/anaconda3/lib/python3.13/site-packages (3.10.0)\n",
      "Requirement already satisfied: click in /opt/anaconda3/lib/python3.13/site-packages (from nltk) (8.1.8)\n",
      "Requirement already satisfied: joblib in /opt/anaconda3/lib/python3.13/site-packages (from nltk) (1.4.2)\n",
      "Requirement already satisfied: regex>=2021.8.3 in /opt/anaconda3/lib/python3.13/site-packages (from nltk) (2024.11.6)\n",
      "Requirement already satisfied: tqdm in /opt/anaconda3/lib/python3.13/site-packages (from nltk) (4.67.1)\n",
      "Requirement already satisfied: numpy>=1.19.5 in /opt/anaconda3/lib/python3.13/site-packages (from scikit-learn) (2.1.3)\n",
      "Requirement already satisfied: scipy>=1.6.0 in /opt/anaconda3/lib/python3.13/site-packages (from scikit-learn) (1.15.3)\n",
      "Requirement already satisfied: threadpoolctl>=3.1.0 in /opt/anaconda3/lib/python3.13/site-packages (from scikit-learn) (3.5.0)\n",
      "Requirement already satisfied: python-dateutil>=2.8.2 in /opt/anaconda3/lib/python3.13/site-packages (from pandas) (2.9.0.post0)\n",
      "Requirement already satisfied: pytz>=2020.1 in /opt/anaconda3/lib/python3.13/site-packages (from pandas) (2024.1)\n",
      "Requirement already satisfied: tzdata>=2022.7 in /opt/anaconda3/lib/python3.13/site-packages (from pandas) (2025.2)\n",
      "Requirement already satisfied: contourpy>=1.0.1 in /opt/anaconda3/lib/python3.13/site-packages (from matplotlib) (1.3.1)\n",
      "Requirement already satisfied: cycler>=0.10 in /opt/anaconda3/lib/python3.13/site-packages (from matplotlib) (0.11.0)\n",
      "Requirement already satisfied: fonttools>=4.22.0 in /opt/anaconda3/lib/python3.13/site-packages (from matplotlib) (4.55.3)\n",
      "Requirement already satisfied: kiwisolver>=1.3.1 in /opt/anaconda3/lib/python3.13/site-packages (from matplotlib) (1.4.8)\n",
      "Requirement already satisfied: packaging>=20.0 in /opt/anaconda3/lib/python3.13/site-packages (from matplotlib) (24.2)\n",
      "Requirement already satisfied: pillow>=8 in /opt/anaconda3/lib/python3.13/site-packages (from matplotlib) (11.1.0)\n",
      "Requirement already satisfied: pyparsing>=2.3.1 in /opt/anaconda3/lib/python3.13/site-packages (from matplotlib) (3.2.0)\n",
      "Requirement already satisfied: six>=1.5 in /opt/anaconda3/lib/python3.13/site-packages (from python-dateutil>=2.8.2->pandas) (1.17.0)\n"
     ]
    }
   ],
   "source": [
    "!pip install nltk scikit-learn pandas matplotlib\n"
   ]
  },
  {
   "cell_type": "markdown",
   "id": "3839e6cf",
   "metadata": {},
   "source": [
    "Now, import the required libraries:"
   ]
  },
  {
   "cell_type": "code",
   "execution_count": 2,
   "id": "e27aa77b",
   "metadata": {},
   "outputs": [],
   "source": [
    "\n",
    "import nltk\n",
    "import re\n",
    "import string\n",
    "import pandas as pd\n",
    "import matplotlib.pyplot as plt\n",
    "from nltk.corpus import stopwords\n",
    "from nltk.tokenize import word_tokenize\n",
    "from nltk.stem import PorterStemmer, WordNetLemmatizer\n",
    "from nltk import pos_tag\n",
    "from sklearn.feature_extraction.text import CountVectorizer, TfidfVectorizer"
   ]
  },
  {
   "cell_type": "code",
   "execution_count": 3,
   "id": "c5a2544b",
   "metadata": {},
   "outputs": [
    {
     "name": "stderr",
     "output_type": "stream",
     "text": [
      "[nltk_data] Downloading package punkt to\n",
      "[nltk_data]     /Users/sofiazogkza/nltk_data...\n",
      "[nltk_data]   Package punkt is already up-to-date!\n",
      "[nltk_data] Downloading package stopwords to\n",
      "[nltk_data]     /Users/sofiazogkza/nltk_data...\n",
      "[nltk_data]   Package stopwords is already up-to-date!\n",
      "[nltk_data] Downloading package averaged_perceptron_tagger to\n",
      "[nltk_data]     /Users/sofiazogkza/nltk_data...\n",
      "[nltk_data]   Unzipping taggers/averaged_perceptron_tagger.zip.\n",
      "[nltk_data] Downloading package wordnet to\n",
      "[nltk_data]     /Users/sofiazogkza/nltk_data...\n",
      "[nltk_data] Downloading package punkt_tab to\n",
      "[nltk_data]     /Users/sofiazogkza/nltk_data...\n",
      "[nltk_data]   Package punkt_tab is already up-to-date!\n",
      "[nltk_data] Downloading package averaged_perceptron_tagger to\n",
      "[nltk_data]     /Users/sofiazogkza/nltk_data...\n",
      "[nltk_data]   Package averaged_perceptron_tagger is already up-to-\n",
      "[nltk_data]       date!\n"
     ]
    },
    {
     "data": {
      "text/plain": [
       "True"
      ]
     },
     "execution_count": 3,
     "metadata": {},
     "output_type": "execute_result"
    }
   ],
   "source": [
    "# Download NLTK datasets\n",
    "nltk.download('punkt')\n",
    "nltk.download('stopwords')\n",
    "nltk.download('averaged_perceptron_tagger')\n",
    "nltk.download('wordnet')\n",
    "nltk.download('punkt_tab')\n",
    "nltk.download('averaged_perceptron_tagger')\n",
    "\n"
   ]
  },
  {
   "cell_type": "markdown",
   "id": "cec67490",
   "metadata": {},
   "source": [
    "## **2. Text Preprocessing**"
   ]
  },
  {
   "cell_type": "markdown",
   "id": "5b6877c3",
   "metadata": {},
   "source": [
    "### **Exercise 1: Tokenization and Stop Word Removal**"
   ]
  },
  {
   "cell_type": "markdown",
   "id": "956bdaa1",
   "metadata": {},
   "source": [
    "Tokenize the following text"
   ]
  },
  {
   "cell_type": "code",
   "execution_count": 4,
   "id": "d82fcea5",
   "metadata": {},
   "outputs": [],
   "source": [
    "text = \"Natural Language Processing (NLP) is a fascinating field of study! It involves analyzing and understanding human language.\"\n",
    "\n",
    "# your code here\n",
    "tokens = word_tokenize(text)\n",
    "\n",
    "# Convert to lowercase and remove punctuation\n",
    "tokens = [word.lower() for word in tokens if word.isalpha()]"
   ]
  },
  {
   "cell_type": "markdown",
   "id": "26303ab9",
   "metadata": {},
   "source": [
    "Remove stop words and store the result in a variable called `filtered_tokens`"
   ]
  },
  {
   "cell_type": "code",
   "execution_count": 5,
   "id": "d09992c8",
   "metadata": {},
   "outputs": [],
   "source": [
    "stop_words = set(stopwords.words('english'))\n",
    "# your code here\n",
    "filtered_tokens = [word for word in tokens if word not in stop_words]"
   ]
  },
  {
   "cell_type": "code",
   "execution_count": 6,
   "id": "14120510",
   "metadata": {},
   "outputs": [
    {
     "name": "stdout",
     "output_type": "stream",
     "text": [
      "Filtered Tokens: ['natural', 'language', 'processing', 'nlp', 'fascinating', 'field', 'study', 'involves', 'analyzing', 'understanding', 'human', 'language']\n"
     ]
    }
   ],
   "source": [
    "print(\"Filtered Tokens:\", filtered_tokens)"
   ]
  },
  {
   "cell_type": "markdown",
   "id": "50f0b30d",
   "metadata": {},
   "source": [
    "### **Exercise 2: Stemming and Lemmatization**"
   ]
  },
  {
   "cell_type": "markdown",
   "id": "c6949309",
   "metadata": {},
   "source": [
    "Apply stemming and lemmatization to the `filtered_tokens`. Compare the results."
   ]
  },
  {
   "cell_type": "code",
   "execution_count": 12,
   "id": "03dd22dd",
   "metadata": {},
   "outputs": [],
   "source": [
    "stemmer = PorterStemmer()\n",
    "lemmatizer = WordNetLemmatizer()"
   ]
  },
  {
   "cell_type": "markdown",
   "id": "d063d90e",
   "metadata": {},
   "source": [
    "Apply stemming and store the result in `stemmed_tokens`"
   ]
  },
  {
   "cell_type": "code",
   "execution_count": 8,
   "id": "6120c6d0",
   "metadata": {},
   "outputs": [],
   "source": [
    "# your code here\n",
    "stemmed_tokens = [stemmer.stem(word) for word in filtered_tokens]"
   ]
  },
  {
   "cell_type": "code",
   "execution_count": 9,
   "id": "c2c5d353",
   "metadata": {},
   "outputs": [
    {
     "name": "stdout",
     "output_type": "stream",
     "text": [
      "Stemmed Tokens: ['natur', 'languag', 'process', 'nlp', 'fascin', 'field', 'studi', 'involv', 'analyz', 'understand', 'human', 'languag']\n"
     ]
    }
   ],
   "source": [
    "print(\"Stemmed Tokens:\", stemmed_tokens)"
   ]
  },
  {
   "cell_type": "markdown",
   "id": "a2dc333a",
   "metadata": {},
   "source": [
    "Apply lemmatization and store the result in `lemmatized_tokens`"
   ]
  },
  {
   "cell_type": "code",
   "execution_count": 10,
   "id": "c2b23234",
   "metadata": {},
   "outputs": [],
   "source": [
    "# your code here\n",
    "lemmatized_tokens = [lemmatizer.lemmatize(word) for word in filtered_tokens]"
   ]
  },
  {
   "cell_type": "code",
   "execution_count": 11,
   "id": "08f49cad",
   "metadata": {},
   "outputs": [
    {
     "name": "stdout",
     "output_type": "stream",
     "text": [
      "Lemmatized Tokens: ['natural', 'language', 'processing', 'nlp', 'fascinating', 'field', 'study', 'involves', 'analyzing', 'understanding', 'human', 'language']\n"
     ]
    }
   ],
   "source": [
    "print(\"Lemmatized Tokens:\", lemmatized_tokens)"
   ]
  },
  {
   "cell_type": "markdown",
   "id": "20531b9b",
   "metadata": {},
   "source": [
    "## **3. Feature Extraction**"
   ]
  },
  {
   "cell_type": "markdown",
   "id": "a5fbd840",
   "metadata": {},
   "source": [
    "### **Exercise 3: Bag of Words (BoW)**"
   ]
  },
  {
   "cell_type": "markdown",
   "id": "b7765074",
   "metadata": {},
   "source": [
    "Use the `CountVectorizer` from `scikit-learn` to create a Bag of Words representation of the following corpus"
   ]
  },
  {
   "cell_type": "code",
   "execution_count": 13,
   "id": "39c86f37",
   "metadata": {},
   "outputs": [],
   "source": [
    "corpus = [\n",
    "    \"I love NLP.\",\n",
    "    \"NLP is amazing.\",\n",
    "    \"I enjoy learning new things in NLP.\"\n",
    "]"
   ]
  },
  {
   "cell_type": "code",
   "execution_count": null,
   "id": "45334917",
   "metadata": {},
   "outputs": [],
   "source": [
    "# your code here\n",
    "# Step 1: Initialize the CountVectorizer\n",
    "vectorizer = CountVectorizer()\n",
    "# Step 2: Fit and transform the corpus into a BoW representation\n",
    "X = vectorizer.fit_transform(corpus)\n"
   ]
  },
  {
   "cell_type": "code",
   "execution_count": 16,
   "id": "bfb3b95e",
   "metadata": {},
   "outputs": [
    {
     "name": "stdout",
     "output_type": "stream",
     "text": [
      "Vocabulary: ['amazing' 'enjoy' 'in' 'is' 'learning' 'love' 'new' 'nlp' 'things']\n",
      "Bag of Words:\n",
      " [[0 0 0 0 0 1 0 1 0]\n",
      " [1 0 0 1 0 0 0 1 0]\n",
      " [0 1 1 0 1 0 1 1 1]]\n"
     ]
    }
   ],
   "source": [
    "print(\"Vocabulary:\", vectorizer.get_feature_names_out())\n",
    "print(\"Bag of Words:\\n\", X.toarray())"
   ]
  },
  {
   "cell_type": "markdown",
   "id": "b0d79220",
   "metadata": {},
   "source": [
    "### **Exercise 4: TF-IDF**"
   ]
  },
  {
   "cell_type": "markdown",
   "id": "55622108",
   "metadata": {},
   "source": [
    "Use the `TfidfVectorizer` from `scikit-learn` to create a TF-IDF representation of the same corpus. Store the result in `X_tfidf`"
   ]
  },
  {
   "cell_type": "markdown",
   "id": "fc11180d",
   "metadata": {},
   "source": [
    "### Inverse Document Frequency (IDF)"
   ]
  },
  {
   "cell_type": "code",
   "execution_count": 17,
   "id": "ba20ee5c",
   "metadata": {},
   "outputs": [],
   "source": [
    "# your code here\n",
    "# Step 1: Initialize the TfidfVectorizer\n",
    "tfidf_vectorizer = TfidfVectorizer()\n",
    "\n",
    "# Step 2: Fit and transform the corpus into a TF-IDF representation\n",
    "X_tfidf = tfidf_vectorizer.fit_transform(corpus)"
   ]
  },
  {
   "cell_type": "code",
   "execution_count": 19,
   "id": "e0df3ff9",
   "metadata": {},
   "outputs": [
    {
     "name": "stdout",
     "output_type": "stream",
     "text": [
      "Vocabulary: ['amazing' 'enjoy' 'in' 'is' 'learning' 'love' 'new' 'nlp' 'things']\n",
      "TF-IDF:\n",
      " [[0.         0.         0.         0.         0.         0.861037\n",
      "  0.         0.50854232 0.        ]\n",
      " [0.65249088 0.         0.         0.65249088 0.         0.\n",
      "  0.         0.38537163 0.        ]\n",
      " [0.         0.43238509 0.43238509 0.         0.43238509 0.\n",
      "  0.43238509 0.2553736  0.43238509]]\n"
     ]
    }
   ],
   "source": [
    "print(\"Vocabulary:\", tfidf_vectorizer.get_feature_names_out())\n",
    "print(\"TF-IDF:\\n\", X_tfidf.toarray())"
   ]
  },
  {
   "cell_type": "markdown",
   "id": "a0a6cee3",
   "metadata": {},
   "source": [
    "### **Exercise 5: N-grams**"
   ]
  },
  {
   "cell_type": "markdown",
   "id": "95c9d66d",
   "metadata": {},
   "source": [
    "Generate `bigrams (2-grams)` from the corpus using `CountVectorizer`. Store the result in `X_bigram`"
   ]
  },
  {
   "cell_type": "code",
   "execution_count": 34,
   "id": "9de7b987",
   "metadata": {},
   "outputs": [],
   "source": [
    "# your code here\n",
    "# Step 1: Initialize the CountVectorizer with ngram_range=(2, 2)\n",
    "bigram_vectorizer = CountVectorizer(ngram_range=(2, 2))\n",
    "# Step 2: Fit and transform the corpus into a bigram representation\n",
    "X_bigram = bigram_vectorizer.fit_transform(corpus)"
   ]
  },
  {
   "cell_type": "code",
   "execution_count": 35,
   "id": "7b210fc9",
   "metadata": {},
   "outputs": [
    {
     "name": "stdout",
     "output_type": "stream",
     "text": [
      "Bigram Vocabulary: ['enjoy learning' 'in nlp' 'is amazing' 'learning new' 'love nlp'\n",
      " 'new things' 'nlp is' 'things in']\n",
      "Bigrams:\n",
      " [[0 0 0 0 1 0 0 0]\n",
      " [0 0 1 0 0 0 1 0]\n",
      " [1 1 0 1 0 1 0 1]]\n"
     ]
    }
   ],
   "source": [
    "print(\"Bigram Vocabulary:\", bigram_vectorizer.get_feature_names_out())\n",
    "\n",
    "print(\"Bigrams:\\n\", X_bigram.toarray())"
   ]
  },
  {
   "cell_type": "markdown",
   "id": "f7896acb",
   "metadata": {},
   "source": [
    "## **4. Advanced Exercise: Custom Preprocessing Pipeline**"
   ]
  },
  {
   "cell_type": "markdown",
   "id": "68072a1e",
   "metadata": {},
   "source": [
    "### **Exercise 6: Build a Custom Preprocessing Pipeline**"
   ]
  },
  {
   "cell_type": "markdown",
   "id": "7bb33268",
   "metadata": {},
   "source": [
    "Combine all the preprocessing steps (tokenization, stop word removal, punctuation removal, stemming/lemmatization) into a single function. "
   ]
  },
  {
   "cell_type": "code",
   "execution_count": 36,
   "id": "cfff29b9",
   "metadata": {},
   "outputs": [],
   "source": [
    "import nltk\n",
    "from nltk.corpus import stopwords\n",
    "from nltk.tokenize import word_tokenize\n",
    "from nltk.stem import WordNetLemmatizer\n",
    "import string\n",
    "\n",
    "# your code here\n",
    "def text_preprocessing_pipeline(text):\n",
    "    # Step 1: Tokenize the text\n",
    "    tokens = word_tokenize(text)\n",
    "    tokens = [word.lower() for word in tokens if word.isalpha()]\n",
    "    # Step 2: Remove stop words\n",
    "    stop_words = set(stopwords.words('english'))\n",
    "    filtered_tokens = [word for word in tokens if word not in stop_words]\n",
    "    # Step 3: Remove punctuation\n",
    "    filtered_tokens = [word for word in filtered_tokens if word.isalpha()]\n",
    "    # Step 4: Apply lemmatization\n",
    "    lemmatizer = WordNetLemmatizer()\n",
    "    lemmatized_tokens = [lemmatizer.lemmatize(word) for word in filtered_tokens]\n",
    "\n",
    "    return lemmatized_tokens\n"
   ]
  },
  {
   "cell_type": "markdown",
   "id": "b8170a6c",
   "metadata": {},
   "source": [
    "Apply this function to the following text"
   ]
  },
  {
   "cell_type": "code",
   "execution_count": 37,
   "id": "e1777799",
   "metadata": {},
   "outputs": [],
   "source": [
    "text = \"Natural Language Processing (NLP) is a fascinating field of study! It involves analyzing and understanding human language.\"\n",
    "\n",
    "processed_text = text_preprocessing_pipeline(text)"
   ]
  },
  {
   "cell_type": "code",
   "execution_count": 38,
   "id": "c75b50c5",
   "metadata": {},
   "outputs": [
    {
     "name": "stdout",
     "output_type": "stream",
     "text": [
      "Processed Text: ['natural', 'language', 'processing', 'nlp', 'fascinating', 'field', 'study', 'involves', 'analyzing', 'understanding', 'human', 'language']\n"
     ]
    }
   ],
   "source": [
    "print(\"Processed Text:\", processed_text)"
   ]
  },
  {
   "cell_type": "markdown",
   "id": "3625df20",
   "metadata": {},
   "source": [
    "## **5. Evaluation of Preprocessing Techniques**"
   ]
  },
  {
   "cell_type": "markdown",
   "id": "3a666da0",
   "metadata": {},
   "source": [
    "### **Exercise 7: Compare Preprocessing Techniques**"
   ]
  },
  {
   "cell_type": "markdown",
   "id": "dae05a37",
   "metadata": {},
   "source": [
    "Compare the results of stemming and lemmatization on the following sentence. Store the results in `stemmed_tokens` and `lemmatized_tokens`"
   ]
  },
  {
   "cell_type": "code",
   "execution_count": 39,
   "id": "1e70cba9",
   "metadata": {},
   "outputs": [],
   "source": [
    "sentence = \"The cats are playing with the mice in the garden.\"\n",
    "# your code here\n",
    "# Step 1: Tokenize and preprocess the sentence and store the result in filtered_tokens\n",
    "tokens = word_tokenize(sentence)\n",
    "tokens = [word.lower() for word in tokens if word.isalpha()]\n",
    "stop_words = set(stopwords.words('english'))\n",
    "filtered_tokens = [word for word in tokens if word not in stop_words]\n",
    "# Step 2: Apply stemming\n",
    "stemmer = PorterStemmer()\n",
    "stemmed_tokens = [stemmer.stem(word) for word in filtered_tokens]\n",
    "# Step 3: Apply lemmatization\n",
    "lemmatizer = WordNetLemmatizer()\n",
    "lemmatized_tokens = [lemmatizer.lemmatize(word) for word in filtered_tokens]"
   ]
  },
  {
   "cell_type": "code",
   "execution_count": null,
   "id": "125ca6a2",
   "metadata": {},
   "outputs": [
    {
     "name": "stdout",
     "output_type": "stream",
     "text": [
      "Original Tokens: ['cats', 'playing', 'mice', 'garden']\n",
      "Stemmed Tokens: ['cat', 'play', 'mice', 'garden']\n",
      "Lemmatized Tokens: ['cat', 'playing', 'mouse', 'garden']\n"
     ]
    }
   ],
   "source": [
    "print(\"Original Tokens:\", filtered_tokens) # These are the main meaningful words, with stopwords (like the, are, with, in) removed.\n",
    "print(\"Stemmed Tokens:\", stemmed_tokens)\n",
    "print(\"Lemmatized Tokens:\", lemmatized_tokens)"
   ]
  },
  {
   "cell_type": "markdown",
   "id": "ceb0283b",
   "metadata": {},
   "source": [
    "### 🔑 Key Takeaways:\n",
    "\n",
    "Both methods reduce words to their root form to improve text analysis, but lemmatization is more accurate (linguistically correct), while stemming is simpler and faster.\n",
    "\n",
    "By Sofia"
   ]
  },
  {
   "cell_type": "markdown",
   "id": "c32c465f",
   "metadata": {},
   "source": [
    "## **6. Real-World Dataset: Sentiment Analysis**"
   ]
  },
  {
   "cell_type": "markdown",
   "id": "c5a598d9",
   "metadata": {},
   "source": [
    "### **Exercise 8: Preprocess and Analyze Tweets**"
   ]
  },
  {
   "cell_type": "markdown",
   "id": "d056ab80",
   "metadata": {},
   "source": [
    "In this exercise, you will work with a real-world dataset of tweets. The dataset contains 5000 positive and 5000 negative tweets. Your task is to preprocess the tweets and extract features for sentiment analysis.\n"
   ]
  },
  {
   "cell_type": "code",
   "execution_count": null,
   "id": "d1e37f72",
   "metadata": {},
   "outputs": [
    {
     "name": "stderr",
     "output_type": "stream",
     "text": [
      "[nltk_data] Downloading package twitter_samples to\n",
      "[nltk_data]     /Users/sofiazogkza/nltk_data...\n",
      "[nltk_data]   Unzipping corpora/twitter_samples.zip.\n"
     ]
    },
    {
     "data": {
      "text/plain": [
       "True"
      ]
     },
     "execution_count": 41,
     "metadata": {},
     "output_type": "execute_result"
    }
   ],
   "source": [
    "nltk.download('twitter_samples') \n",
    "# It’s not an online database, but a small, prepackaged dataset that \n",
    "# NLTK provides for practice and research."
   ]
  },
  {
   "cell_type": "code",
   "execution_count": 42,
   "id": "c2c60819",
   "metadata": {},
   "outputs": [],
   "source": [
    "# Load the dataset\n",
    "from nltk.corpus import twitter_samples"
   ]
  },
  {
   "cell_type": "code",
   "execution_count": null,
   "id": "491bbad1",
   "metadata": {},
   "outputs": [
    {
     "name": "stdout",
     "output_type": "stream",
     "text": [
      "['negative_tweets.json', 'positive_tweets.json', 'tweets.20150430-223406.json']\n"
     ]
    }
   ],
   "source": [
    "print(twitter_samples.fileids()) # How to see what is inside"
   ]
  },
  {
   "cell_type": "markdown",
   "id": "c43847ae",
   "metadata": {},
   "source": [
    "Load the dataset of positive and negative tweets. "
   ]
  },
  {
   "cell_type": "code",
   "execution_count": 53,
   "id": "5b423ebc",
   "metadata": {},
   "outputs": [],
   "source": [
    "positive_tweets = twitter_samples.strings('positive_tweets.json')\n",
    "negative_tweets = twitter_samples.strings('negative_tweets.json')"
   ]
  },
  {
   "cell_type": "code",
   "execution_count": 54,
   "id": "5de9dbc9",
   "metadata": {},
   "outputs": [
    {
     "name": "stdout",
     "output_type": "stream",
     "text": [
      "Example positive tweet: #FollowFriday @France_Inte @PKuchly57 @Milipol_Paris for being top engaged members in my community this week :)\n",
      "Example negative tweet: @Hegelbon That heart sliding into the waste basket. :(\n",
      "Number of positive tweets: 5000\n",
      "Number of negative tweets: 5000\n"
     ]
    }
   ],
   "source": [
    "# Check a few examples\n",
    "print(\"Example positive tweet:\", positive_tweets[0])\n",
    "print(\"Example negative tweet:\", negative_tweets[2])\n",
    "\n",
    "# See how many there are\n",
    "print(\"Number of positive tweets:\", len(positive_tweets))\n",
    "print(\"Number of negative tweets:\", len(negative_tweets))"
   ]
  },
  {
   "cell_type": "code",
   "execution_count": 55,
   "id": "5a642ce1",
   "metadata": {},
   "outputs": [
    {
     "name": "stdout",
     "output_type": "stream",
     "text": [
      "Example positive tweet: #FollowFriday @France_Inte @PKuchly57 @Milipol_Paris for being top engaged members in my community this week :)\n",
      "Example positive tweet tokenized: ['#FollowFriday', '@France_Inte', '@PKuchly57', '@Milipol_Paris', 'for', 'being', 'top', 'engaged', 'members', 'in', 'my', 'community', 'this', 'week', ':)']\n",
      "Example positive tweet readme: {'contributors': None, 'coordinates': None, 'text': '#FollowFriday @France_Inte @PKuchly57 @Milipol_Paris for being top engaged members in my community this week :)', 'user': {'time_zone': 'Paris', 'profile_background_image_url': 'http://pbs.twimg.com/profile_background_images/784477066/7a8d261ef8d27f2bdf08fadac65bea7b.jpeg', 'geo_enabled': True, 'profile_image_url_https': 'https://pbs.twimg.com/profile_images/567331322830413825/bqH6u2DO_normal.jpeg', 'url': 'http://t.co/iY2ZZAJY1Y', 'profile_text_color': '000000', 'entities': {'url': {'urls': [{'url': 'http://t.co/iY2ZZAJY1Y', 'indices': [0, 22], 'expanded_url': 'http://www.international.cci-paris-idf.fr', 'display_url': 'international.cci-paris-idf.fr'}]}, 'description': {'urls': [{'url': 'http://t.co/wGg73YM5yh', 'indices': [102, 124], 'expanded_url': 'http://ow.ly/KwxhI', 'display_url': 'ow.ly/KwxhI'}]}}, 'listed_count': 296, 'statuses_count': 12858, 'profile_sidebar_fill_color': 'DDFFCC', 'profile_sidebar_border_color': 'FFFFFF', 'name': 'CCIParisExport', 'followers_count': 3683, 'location': 'France', 'lang': 'fr', 'profile_background_image_url_https': 'https://pbs.twimg.com/profile_background_images/784477066/7a8d261ef8d27f2bdf08fadac65bea7b.jpeg', 'verified': False, 'notifications': False, 'default_profile_image': False, 'profile_use_background_image': True, 'created_at': 'Thu Feb 18 13:18:49 +0000 2010', 'favourites_count': 1089, 'friends_count': 1505, 'has_extended_profile': False, 'utc_offset': 7200, 'profile_background_color': 'CEDFE9', 'is_translator': False, 'contributors_enabled': False, 'profile_image_url': 'http://pbs.twimg.com/profile_images/567331322830413825/bqH6u2DO_normal.jpeg', 'profile_link_color': '02437B', 'is_translation_enabled': False, 'profile_banner_url': 'https://pbs.twimg.com/profile_banners/115376341/1431008625', 'id_str': '115376341', 'follow_request_sent': False, 'screen_name': 'CCIParis_Export', 'following': False, 'default_profile': False, 'profile_background_tile': False, 'id': 115376341, 'description': 'Développez votre #Entreprise à l’#Export avec votre #CCI ! Vous préférez Linkedin ? Connectons-nous ! http://t.co/wGg73YM5yh #Commerce #International', 'protected': False}, 'retweet_count': 0, 'favorited': False, 'entities': {'hashtags': [{'indices': [0, 13], 'text': 'FollowFriday'}], 'user_mentions': [{'screen_name': 'France_Inte', 'indices': [14, 26], 'id_str': '3222273608', 'id': 3222273608, 'name': 'France International'}, {'screen_name': 'PKuchly57', 'indices': [27, 37], 'id_str': '164313583', 'id': 164313583, 'name': 'Pierre KUCHLY'}, {'screen_name': 'Milipol_Paris', 'indices': [38, 52], 'id_str': '1100740914', 'id': 1100740914, 'name': 'Milipol Paris'}], 'urls': [], 'symbols': []}, 'source': '<a href=\"https://commun.it\" rel=\"nofollow\">Commun.it</a>', 'truncated': False, 'geo': None, 'in_reply_to_status_id_str': None, 'is_quote_status': False, 'in_reply_to_user_id_str': None, 'place': None, 'in_reply_to_status_id': None, 'in_reply_to_screen_name': None, 'lang': 'en', 'retweeted': False, 'in_reply_to_user_id': None, 'created_at': 'Fri Jul 24 08:23:36 +0000 2015', 'metadata': {'iso_language_code': 'en', 'result_type': 'recent'}, 'favorite_count': 0, 'id_str': '624495129303351296', 'id': 624495129303351296}\n"
     ]
    }
   ],
   "source": [
    "# Explore mmethods (functions) of the specific corpus object called twitter_samples\n",
    "positive_tweets_tests_strings = twitter_samples.strings('positive_tweets.json')\n",
    "print(\"Example positive tweet:\", positive_tweets_tests_strings[0])\n",
    "\n",
    "positive_tweets_tests_tokenized = twitter_samples.tokenized('positive_tweets.json')\n",
    "print(\"Example positive tweet tokenized:\", positive_tweets_tests_tokenized[0])\n",
    "\n",
    "positive_tweets_readme = twitter_samples.docs('positive_tweets.json')\n",
    "print(\"Example positive tweet readme:\", positive_tweets_readme[0])"
   ]
  },
  {
   "cell_type": "markdown",
   "id": "339b8248",
   "metadata": {},
   "source": [
    "Combine them into a single list called ``all_tweets`` and create a corresponding list of labels called `labels`."
   ]
  },
  {
   "cell_type": "code",
   "execution_count": 57,
   "id": "271a4ee0",
   "metadata": {},
   "outputs": [],
   "source": [
    "# your code here\n",
    "all_tweets = positive_tweets + negative_tweets\n",
    "\n",
    "# Create labels (1 for positive, 0 for negative)\n",
    "labels = [1] * len(positive_tweets) + [0] * len(negative_tweets)\n"
   ]
  },
  {
   "cell_type": "code",
   "execution_count": 58,
   "id": "32ec3ed8",
   "metadata": {},
   "outputs": [
    {
     "name": "stdout",
     "output_type": "stream",
     "text": [
      "Sample Tweet: #FollowFriday @France_Inte @PKuchly57 @Milipol_Paris for being top engaged members in my community this week :)\n",
      "Label: 1\n"
     ]
    }
   ],
   "source": [
    "# Print a sample tweet\n",
    "print(\"Sample Tweet:\", all_tweets[0])\n",
    "print(\"Label:\", labels[0])"
   ]
  },
  {
   "cell_type": "markdown",
   "id": "bfc2a04a",
   "metadata": {},
   "source": [
    "### **Exercise 9: Preprocess Tweets**"
   ]
  },
  {
   "cell_type": "markdown",
   "id": "b4d1e984",
   "metadata": {},
   "source": [
    "Apply the custom preprocessing pipeline to the entire dataset of tweets. Store the result in ``preprocessed_tweets``."
   ]
  },
  {
   "cell_type": "code",
   "execution_count": 60,
   "id": "39e8c02f",
   "metadata": {},
   "outputs": [],
   "source": [
    "# Step 1: Apply the preprocessing pipeline to all tweets\n",
    "# your code here\n",
    "# preprocessed_tweets = text_preprocessing_pipeline(all_tweets)\n",
    "\n",
    "preprocessed_tweets = []\n",
    "\n",
    "for tweet in all_tweets:\n",
    "    preprocessed_tweets.append(text_preprocessing_pipeline(tweet))"
   ]
  },
  {
   "cell_type": "code",
   "execution_count": 61,
   "id": "edeef254",
   "metadata": {},
   "outputs": [
    {
     "name": "stdout",
     "output_type": "stream",
     "text": [
      "Preprocessed Tweets Sample: ['followfriday', 'top', 'engaged', 'member', 'community', 'week']\n"
     ]
    }
   ],
   "source": [
    "# Print a sample preprocessed tweet\n",
    "print(\"Preprocessed Tweets Sample:\", preprocessed_tweets[0])"
   ]
  },
  {
   "cell_type": "markdown",
   "id": "a8658daf",
   "metadata": {},
   "source": [
    "### **Exercise 10: Feature Extraction on Tweets**"
   ]
  },
  {
   "cell_type": "markdown",
   "id": "381f161c",
   "metadata": {},
   "source": [
    "Extract features from the preprocessed tweets using **Bag of Words** and **TF-IDF**. Store the results in ``X_bow`` and ``X_tfidf``, respectively."
   ]
  },
  {
   "cell_type": "code",
   "execution_count": 66,
   "id": "bee42f6c",
   "metadata": {},
   "outputs": [
    {
     "name": "stdout",
     "output_type": "stream",
     "text": [
      "Bag of Words shape: (10000, 15133)\n",
      "Example features: ['aa' 'aaaaaaaaaaa' 'aaaaaaaaaaaaa' 'aaaaaaaaaaaah' 'aaaaaand' 'aaaaages'\n",
      " 'aaaaahhhhhhhh' 'aaaahh' 'aaaahhh' 'aaahhh']\n",
      "Vocabulary: ['aa' 'aaaaaaaaaaa' 'aaaaaaaaaaaaa' ... '에이핑크' '인피니트' 'ｍｅ']\n",
      "Bag of Words:\n",
      " [[0 0 0 ... 0 0 0]\n",
      " [0 0 0 ... 0 0 0]\n",
      " [0 0 0 ... 0 0 0]\n",
      " ...\n",
      " [0 0 0 ... 0 0 0]\n",
      " [0 0 0 ... 0 0 0]\n",
      " [0 0 0 ... 0 0 0]]\n",
      "TF-IDF shape: (10000, 15133)\n",
      "Example features: ['aa' 'aaaaaaaaaaa' 'aaaaaaaaaaaaa' 'aaaaaaaaaaaah' 'aaaaaand' 'aaaaages'\n",
      " 'aaaaahhhhhhhh' 'aaaahh' 'aaaahhh' 'aaahhh']\n",
      "Vocabulary: ['aa' 'aaaaaaaaaaa' 'aaaaaaaaaaaaa' ... '에이핑크' '인피니트' 'ｍｅ']\n",
      "TF-IDF:\n",
      " [[0. 0. 0. ... 0. 0. 0.]\n",
      " [0. 0. 0. ... 0. 0. 0.]\n",
      " [0. 0. 0. ... 0. 0. 0.]\n",
      " ...\n",
      " [0. 0. 0. ... 0. 0. 0.]\n",
      " [0. 0. 0. ... 0. 0. 0.]\n",
      " [0. 0. 0. ... 0. 0. 0.]]\n"
     ]
    }
   ],
   "source": [
    "# your code here\n",
    "# Join tokens back into strings, because vectorizers expect text\n",
    "tweets_as_strings = []\n",
    "\n",
    "for tweet_tokens in preprocessed_tweets:\n",
    "    joined_tweet = \" \".join(tweet_tokens)  # join tokens into a single string\n",
    "    tweets_as_strings.append(joined_tweet)\n",
    "\n",
    "# Step 1: Create a Bag of Words representation\n",
    "vectorizer = CountVectorizer()\n",
    "# Fit and transform the corpus into a BoW representation\n",
    "X_bow = vectorizer.fit_transform(tweets_as_strings)\n",
    "print(\"Bag of Words shape:\", X_bow.shape)\n",
    "print(\"Example features:\", vectorizer.get_feature_names_out()[:10])\n",
    "print(\"Vocabulary:\", vectorizer.get_feature_names_out())\n",
    "print(\"Bag of Words:\\n\", X_bow.toarray())\n",
    "\n",
    "# Step 2: Create a TF-IDF representation\n",
    "tfidf_vectorizer = TfidfVectorizer()\n",
    "X_tfidf = tfidf_vectorizer.fit_transform(tweets_as_strings)\n",
    "print(\"TF-IDF shape:\", X_tfidf.shape)\n",
    "print(\"Example features:\", tfidf_vectorizer.get_feature_names_out()[:10])\n",
    "print(\"Vocabulary:\", tfidf_vectorizer.get_feature_names_out())\n",
    "print(\"TF-IDF:\\n\", X_tfidf.toarray())\n"
   ]
  },
  {
   "cell_type": "markdown",
   "id": "4912687c",
   "metadata": {},
   "source": [
    "## **7. Conclusion**"
   ]
  },
  {
   "cell_type": "markdown",
   "id": "948ed4ac",
   "metadata": {},
   "source": [
    "In this lab, you explored a wide range of NLP techniques, from basic text preprocessing to advanced feature extraction and analysis. You also worked with a real-world dataset of tweets and applied your knowledge to preprocess and extract features for sentiment analysis.\n",
    "\n"
   ]
  }
 ],
 "metadata": {
  "kernelspec": {
   "display_name": "base",
   "language": "python",
   "name": "python3"
  },
  "language_info": {
   "codemirror_mode": {
    "name": "ipython",
    "version": 3
   },
   "file_extension": ".py",
   "mimetype": "text/x-python",
   "name": "python",
   "nbconvert_exporter": "python",
   "pygments_lexer": "ipython3",
   "version": "3.13.5"
  }
 },
 "nbformat": 4,
 "nbformat_minor": 5
}
